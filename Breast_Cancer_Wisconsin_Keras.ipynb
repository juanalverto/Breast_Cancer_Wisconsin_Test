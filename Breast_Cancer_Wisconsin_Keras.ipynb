{
  "nbformat": 4,
  "nbformat_minor": 0,
  "metadata": {
    "colab": {
      "name": "Breast_Cancer_Wisconsin_Keras.ipynb",
      "provenance": [],
      "collapsed_sections": [],
      "include_colab_link": true
    },
    "kernelspec": {
      "name": "python3",
      "display_name": "Python 3"
    }
  },
  "cells": [
    {
      "cell_type": "markdown",
      "metadata": {
        "id": "view-in-github",
        "colab_type": "text"
      },
      "source": [
        "<a href=\"https://colab.research.google.com/github/juanalverto/Breast_Cancer_Wisconsin_Test/blob/main/Breast_Cancer_Wisconsin_Keras.ipynb\" target=\"_parent\"><img src=\"https://colab.research.google.com/assets/colab-badge.svg\" alt=\"Open In Colab\"/></a>"
      ]
    },
    {
      "cell_type": "markdown",
      "metadata": {
        "id": "Z3-rWwlPg1W7"
      },
      "source": [
        "# **Breast Cancer Wisconsin Dataset**"
      ]
    },
    {
      "cell_type": "markdown",
      "metadata": {
        "id": "mhTtgYqpg8Ng"
      },
      "source": [
        "En este ejemplo, trabajaremos con la base de datos Breast Cancer Wisconsin Dataset, la cual contiene 569 instancias que representan tumores benignos y malignos. La primera columa de la base de datos, almacena el ID de cada instancia, mientras que la segunda columna almacena la etiqueta de dicha instancia, donde esta etiqueta corresponde al diagnóstico (M=Maligno, B=Beningno). Las columnas 3-32 registran los valores númericos que se relacionan con las características del núcleo celular, tales como el radio, perímetro, concavidad, entre otros."
      ]
    },
    {
      "cell_type": "code",
      "metadata": {
        "id": "DPhrvOKbjJDG"
      },
      "source": [
        "import pandas as pd\n",
        "import matplotlib.pyplot as plt\n",
        "import seaborn as sns\n",
        "\n",
        "data = pd.read_csv('https://archive.ics.uci.edu/ml/'\n",
        "                 'machine-learning-databases'\n",
        "                 '/breast-cancer-wisconsin/wdbc.data', header=None)"
      ],
      "execution_count": null,
      "outputs": []
    },
    {
      "cell_type": "code",
      "metadata": {
        "id": "1NNFC3GYjfkk",
        "colab": {
          "base_uri": "https://localhost:8080/",
          "height": 224
        },
        "outputId": "2901d4c0-18a2-4507-d755-386e160ddcfe"
      },
      "source": [
        "data.tail()"
      ],
      "execution_count": null,
      "outputs": [
        {
          "output_type": "execute_result",
          "data": {
            "text/html": [
              "<div>\n",
              "<style scoped>\n",
              "    .dataframe tbody tr th:only-of-type {\n",
              "        vertical-align: middle;\n",
              "    }\n",
              "\n",
              "    .dataframe tbody tr th {\n",
              "        vertical-align: top;\n",
              "    }\n",
              "\n",
              "    .dataframe thead th {\n",
              "        text-align: right;\n",
              "    }\n",
              "</style>\n",
              "<table border=\"1\" class=\"dataframe\">\n",
              "  <thead>\n",
              "    <tr style=\"text-align: right;\">\n",
              "      <th></th>\n",
              "      <th>0</th>\n",
              "      <th>1</th>\n",
              "      <th>2</th>\n",
              "      <th>3</th>\n",
              "      <th>4</th>\n",
              "      <th>5</th>\n",
              "      <th>6</th>\n",
              "      <th>7</th>\n",
              "      <th>8</th>\n",
              "      <th>9</th>\n",
              "      <th>10</th>\n",
              "      <th>11</th>\n",
              "      <th>12</th>\n",
              "      <th>13</th>\n",
              "      <th>14</th>\n",
              "      <th>15</th>\n",
              "      <th>16</th>\n",
              "      <th>17</th>\n",
              "      <th>18</th>\n",
              "      <th>19</th>\n",
              "      <th>20</th>\n",
              "      <th>21</th>\n",
              "      <th>22</th>\n",
              "      <th>23</th>\n",
              "      <th>24</th>\n",
              "      <th>25</th>\n",
              "      <th>26</th>\n",
              "      <th>27</th>\n",
              "      <th>28</th>\n",
              "      <th>29</th>\n",
              "      <th>30</th>\n",
              "      <th>31</th>\n",
              "    </tr>\n",
              "  </thead>\n",
              "  <tbody>\n",
              "    <tr>\n",
              "      <th>564</th>\n",
              "      <td>926424</td>\n",
              "      <td>M</td>\n",
              "      <td>21.56</td>\n",
              "      <td>22.39</td>\n",
              "      <td>142.00</td>\n",
              "      <td>1479.0</td>\n",
              "      <td>0.11100</td>\n",
              "      <td>0.11590</td>\n",
              "      <td>0.24390</td>\n",
              "      <td>0.13890</td>\n",
              "      <td>0.1726</td>\n",
              "      <td>0.05623</td>\n",
              "      <td>1.1760</td>\n",
              "      <td>1.256</td>\n",
              "      <td>7.673</td>\n",
              "      <td>158.70</td>\n",
              "      <td>0.010300</td>\n",
              "      <td>0.02891</td>\n",
              "      <td>0.05198</td>\n",
              "      <td>0.02454</td>\n",
              "      <td>0.01114</td>\n",
              "      <td>0.004239</td>\n",
              "      <td>25.450</td>\n",
              "      <td>26.40</td>\n",
              "      <td>166.10</td>\n",
              "      <td>2027.0</td>\n",
              "      <td>0.14100</td>\n",
              "      <td>0.21130</td>\n",
              "      <td>0.4107</td>\n",
              "      <td>0.2216</td>\n",
              "      <td>0.2060</td>\n",
              "      <td>0.07115</td>\n",
              "    </tr>\n",
              "    <tr>\n",
              "      <th>565</th>\n",
              "      <td>926682</td>\n",
              "      <td>M</td>\n",
              "      <td>20.13</td>\n",
              "      <td>28.25</td>\n",
              "      <td>131.20</td>\n",
              "      <td>1261.0</td>\n",
              "      <td>0.09780</td>\n",
              "      <td>0.10340</td>\n",
              "      <td>0.14400</td>\n",
              "      <td>0.09791</td>\n",
              "      <td>0.1752</td>\n",
              "      <td>0.05533</td>\n",
              "      <td>0.7655</td>\n",
              "      <td>2.463</td>\n",
              "      <td>5.203</td>\n",
              "      <td>99.04</td>\n",
              "      <td>0.005769</td>\n",
              "      <td>0.02423</td>\n",
              "      <td>0.03950</td>\n",
              "      <td>0.01678</td>\n",
              "      <td>0.01898</td>\n",
              "      <td>0.002498</td>\n",
              "      <td>23.690</td>\n",
              "      <td>38.25</td>\n",
              "      <td>155.00</td>\n",
              "      <td>1731.0</td>\n",
              "      <td>0.11660</td>\n",
              "      <td>0.19220</td>\n",
              "      <td>0.3215</td>\n",
              "      <td>0.1628</td>\n",
              "      <td>0.2572</td>\n",
              "      <td>0.06637</td>\n",
              "    </tr>\n",
              "    <tr>\n",
              "      <th>566</th>\n",
              "      <td>926954</td>\n",
              "      <td>M</td>\n",
              "      <td>16.60</td>\n",
              "      <td>28.08</td>\n",
              "      <td>108.30</td>\n",
              "      <td>858.1</td>\n",
              "      <td>0.08455</td>\n",
              "      <td>0.10230</td>\n",
              "      <td>0.09251</td>\n",
              "      <td>0.05302</td>\n",
              "      <td>0.1590</td>\n",
              "      <td>0.05648</td>\n",
              "      <td>0.4564</td>\n",
              "      <td>1.075</td>\n",
              "      <td>3.425</td>\n",
              "      <td>48.55</td>\n",
              "      <td>0.005903</td>\n",
              "      <td>0.03731</td>\n",
              "      <td>0.04730</td>\n",
              "      <td>0.01557</td>\n",
              "      <td>0.01318</td>\n",
              "      <td>0.003892</td>\n",
              "      <td>18.980</td>\n",
              "      <td>34.12</td>\n",
              "      <td>126.70</td>\n",
              "      <td>1124.0</td>\n",
              "      <td>0.11390</td>\n",
              "      <td>0.30940</td>\n",
              "      <td>0.3403</td>\n",
              "      <td>0.1418</td>\n",
              "      <td>0.2218</td>\n",
              "      <td>0.07820</td>\n",
              "    </tr>\n",
              "    <tr>\n",
              "      <th>567</th>\n",
              "      <td>927241</td>\n",
              "      <td>M</td>\n",
              "      <td>20.60</td>\n",
              "      <td>29.33</td>\n",
              "      <td>140.10</td>\n",
              "      <td>1265.0</td>\n",
              "      <td>0.11780</td>\n",
              "      <td>0.27700</td>\n",
              "      <td>0.35140</td>\n",
              "      <td>0.15200</td>\n",
              "      <td>0.2397</td>\n",
              "      <td>0.07016</td>\n",
              "      <td>0.7260</td>\n",
              "      <td>1.595</td>\n",
              "      <td>5.772</td>\n",
              "      <td>86.22</td>\n",
              "      <td>0.006522</td>\n",
              "      <td>0.06158</td>\n",
              "      <td>0.07117</td>\n",
              "      <td>0.01664</td>\n",
              "      <td>0.02324</td>\n",
              "      <td>0.006185</td>\n",
              "      <td>25.740</td>\n",
              "      <td>39.42</td>\n",
              "      <td>184.60</td>\n",
              "      <td>1821.0</td>\n",
              "      <td>0.16500</td>\n",
              "      <td>0.86810</td>\n",
              "      <td>0.9387</td>\n",
              "      <td>0.2650</td>\n",
              "      <td>0.4087</td>\n",
              "      <td>0.12400</td>\n",
              "    </tr>\n",
              "    <tr>\n",
              "      <th>568</th>\n",
              "      <td>92751</td>\n",
              "      <td>B</td>\n",
              "      <td>7.76</td>\n",
              "      <td>24.54</td>\n",
              "      <td>47.92</td>\n",
              "      <td>181.0</td>\n",
              "      <td>0.05263</td>\n",
              "      <td>0.04362</td>\n",
              "      <td>0.00000</td>\n",
              "      <td>0.00000</td>\n",
              "      <td>0.1587</td>\n",
              "      <td>0.05884</td>\n",
              "      <td>0.3857</td>\n",
              "      <td>1.428</td>\n",
              "      <td>2.548</td>\n",
              "      <td>19.15</td>\n",
              "      <td>0.007189</td>\n",
              "      <td>0.00466</td>\n",
              "      <td>0.00000</td>\n",
              "      <td>0.00000</td>\n",
              "      <td>0.02676</td>\n",
              "      <td>0.002783</td>\n",
              "      <td>9.456</td>\n",
              "      <td>30.37</td>\n",
              "      <td>59.16</td>\n",
              "      <td>268.6</td>\n",
              "      <td>0.08996</td>\n",
              "      <td>0.06444</td>\n",
              "      <td>0.0000</td>\n",
              "      <td>0.0000</td>\n",
              "      <td>0.2871</td>\n",
              "      <td>0.07039</td>\n",
              "    </tr>\n",
              "  </tbody>\n",
              "</table>\n",
              "</div>"
            ],
            "text/plain": [
              "         0  1      2      3       4   ...       27      28      29      30       31\n",
              "564  926424  M  21.56  22.39  142.00  ...  0.21130  0.4107  0.2216  0.2060  0.07115\n",
              "565  926682  M  20.13  28.25  131.20  ...  0.19220  0.3215  0.1628  0.2572  0.06637\n",
              "566  926954  M  16.60  28.08  108.30  ...  0.30940  0.3403  0.1418  0.2218  0.07820\n",
              "567  927241  M  20.60  29.33  140.10  ...  0.86810  0.9387  0.2650  0.4087  0.12400\n",
              "568   92751  B   7.76  24.54   47.92  ...  0.06444  0.0000  0.0000  0.2871  0.07039\n",
              "\n",
              "[5 rows x 32 columns]"
            ]
          },
          "metadata": {
            "tags": []
          },
          "execution_count": 2
        }
      ]
    },
    {
      "cell_type": "code",
      "metadata": {
        "id": "0ApdKEJTjiIn",
        "colab": {
          "base_uri": "https://localhost:8080/",
          "height": 224
        },
        "outputId": "f5bbee83-e725-409b-ae1b-a5dc26a5644e"
      },
      "source": [
        "data.head()"
      ],
      "execution_count": null,
      "outputs": [
        {
          "output_type": "execute_result",
          "data": {
            "text/html": [
              "<div>\n",
              "<style scoped>\n",
              "    .dataframe tbody tr th:only-of-type {\n",
              "        vertical-align: middle;\n",
              "    }\n",
              "\n",
              "    .dataframe tbody tr th {\n",
              "        vertical-align: top;\n",
              "    }\n",
              "\n",
              "    .dataframe thead th {\n",
              "        text-align: right;\n",
              "    }\n",
              "</style>\n",
              "<table border=\"1\" class=\"dataframe\">\n",
              "  <thead>\n",
              "    <tr style=\"text-align: right;\">\n",
              "      <th></th>\n",
              "      <th>0</th>\n",
              "      <th>1</th>\n",
              "      <th>2</th>\n",
              "      <th>3</th>\n",
              "      <th>4</th>\n",
              "      <th>5</th>\n",
              "      <th>6</th>\n",
              "      <th>7</th>\n",
              "      <th>8</th>\n",
              "      <th>9</th>\n",
              "      <th>10</th>\n",
              "      <th>11</th>\n",
              "      <th>12</th>\n",
              "      <th>13</th>\n",
              "      <th>14</th>\n",
              "      <th>15</th>\n",
              "      <th>16</th>\n",
              "      <th>17</th>\n",
              "      <th>18</th>\n",
              "      <th>19</th>\n",
              "      <th>20</th>\n",
              "      <th>21</th>\n",
              "      <th>22</th>\n",
              "      <th>23</th>\n",
              "      <th>24</th>\n",
              "      <th>25</th>\n",
              "      <th>26</th>\n",
              "      <th>27</th>\n",
              "      <th>28</th>\n",
              "      <th>29</th>\n",
              "      <th>30</th>\n",
              "      <th>31</th>\n",
              "    </tr>\n",
              "  </thead>\n",
              "  <tbody>\n",
              "    <tr>\n",
              "      <th>0</th>\n",
              "      <td>842302</td>\n",
              "      <td>M</td>\n",
              "      <td>17.99</td>\n",
              "      <td>10.38</td>\n",
              "      <td>122.80</td>\n",
              "      <td>1001.0</td>\n",
              "      <td>0.11840</td>\n",
              "      <td>0.27760</td>\n",
              "      <td>0.3001</td>\n",
              "      <td>0.14710</td>\n",
              "      <td>0.2419</td>\n",
              "      <td>0.07871</td>\n",
              "      <td>1.0950</td>\n",
              "      <td>0.9053</td>\n",
              "      <td>8.589</td>\n",
              "      <td>153.40</td>\n",
              "      <td>0.006399</td>\n",
              "      <td>0.04904</td>\n",
              "      <td>0.05373</td>\n",
              "      <td>0.01587</td>\n",
              "      <td>0.03003</td>\n",
              "      <td>0.006193</td>\n",
              "      <td>25.38</td>\n",
              "      <td>17.33</td>\n",
              "      <td>184.60</td>\n",
              "      <td>2019.0</td>\n",
              "      <td>0.1622</td>\n",
              "      <td>0.6656</td>\n",
              "      <td>0.7119</td>\n",
              "      <td>0.2654</td>\n",
              "      <td>0.4601</td>\n",
              "      <td>0.11890</td>\n",
              "    </tr>\n",
              "    <tr>\n",
              "      <th>1</th>\n",
              "      <td>842517</td>\n",
              "      <td>M</td>\n",
              "      <td>20.57</td>\n",
              "      <td>17.77</td>\n",
              "      <td>132.90</td>\n",
              "      <td>1326.0</td>\n",
              "      <td>0.08474</td>\n",
              "      <td>0.07864</td>\n",
              "      <td>0.0869</td>\n",
              "      <td>0.07017</td>\n",
              "      <td>0.1812</td>\n",
              "      <td>0.05667</td>\n",
              "      <td>0.5435</td>\n",
              "      <td>0.7339</td>\n",
              "      <td>3.398</td>\n",
              "      <td>74.08</td>\n",
              "      <td>0.005225</td>\n",
              "      <td>0.01308</td>\n",
              "      <td>0.01860</td>\n",
              "      <td>0.01340</td>\n",
              "      <td>0.01389</td>\n",
              "      <td>0.003532</td>\n",
              "      <td>24.99</td>\n",
              "      <td>23.41</td>\n",
              "      <td>158.80</td>\n",
              "      <td>1956.0</td>\n",
              "      <td>0.1238</td>\n",
              "      <td>0.1866</td>\n",
              "      <td>0.2416</td>\n",
              "      <td>0.1860</td>\n",
              "      <td>0.2750</td>\n",
              "      <td>0.08902</td>\n",
              "    </tr>\n",
              "    <tr>\n",
              "      <th>2</th>\n",
              "      <td>84300903</td>\n",
              "      <td>M</td>\n",
              "      <td>19.69</td>\n",
              "      <td>21.25</td>\n",
              "      <td>130.00</td>\n",
              "      <td>1203.0</td>\n",
              "      <td>0.10960</td>\n",
              "      <td>0.15990</td>\n",
              "      <td>0.1974</td>\n",
              "      <td>0.12790</td>\n",
              "      <td>0.2069</td>\n",
              "      <td>0.05999</td>\n",
              "      <td>0.7456</td>\n",
              "      <td>0.7869</td>\n",
              "      <td>4.585</td>\n",
              "      <td>94.03</td>\n",
              "      <td>0.006150</td>\n",
              "      <td>0.04006</td>\n",
              "      <td>0.03832</td>\n",
              "      <td>0.02058</td>\n",
              "      <td>0.02250</td>\n",
              "      <td>0.004571</td>\n",
              "      <td>23.57</td>\n",
              "      <td>25.53</td>\n",
              "      <td>152.50</td>\n",
              "      <td>1709.0</td>\n",
              "      <td>0.1444</td>\n",
              "      <td>0.4245</td>\n",
              "      <td>0.4504</td>\n",
              "      <td>0.2430</td>\n",
              "      <td>0.3613</td>\n",
              "      <td>0.08758</td>\n",
              "    </tr>\n",
              "    <tr>\n",
              "      <th>3</th>\n",
              "      <td>84348301</td>\n",
              "      <td>M</td>\n",
              "      <td>11.42</td>\n",
              "      <td>20.38</td>\n",
              "      <td>77.58</td>\n",
              "      <td>386.1</td>\n",
              "      <td>0.14250</td>\n",
              "      <td>0.28390</td>\n",
              "      <td>0.2414</td>\n",
              "      <td>0.10520</td>\n",
              "      <td>0.2597</td>\n",
              "      <td>0.09744</td>\n",
              "      <td>0.4956</td>\n",
              "      <td>1.1560</td>\n",
              "      <td>3.445</td>\n",
              "      <td>27.23</td>\n",
              "      <td>0.009110</td>\n",
              "      <td>0.07458</td>\n",
              "      <td>0.05661</td>\n",
              "      <td>0.01867</td>\n",
              "      <td>0.05963</td>\n",
              "      <td>0.009208</td>\n",
              "      <td>14.91</td>\n",
              "      <td>26.50</td>\n",
              "      <td>98.87</td>\n",
              "      <td>567.7</td>\n",
              "      <td>0.2098</td>\n",
              "      <td>0.8663</td>\n",
              "      <td>0.6869</td>\n",
              "      <td>0.2575</td>\n",
              "      <td>0.6638</td>\n",
              "      <td>0.17300</td>\n",
              "    </tr>\n",
              "    <tr>\n",
              "      <th>4</th>\n",
              "      <td>84358402</td>\n",
              "      <td>M</td>\n",
              "      <td>20.29</td>\n",
              "      <td>14.34</td>\n",
              "      <td>135.10</td>\n",
              "      <td>1297.0</td>\n",
              "      <td>0.10030</td>\n",
              "      <td>0.13280</td>\n",
              "      <td>0.1980</td>\n",
              "      <td>0.10430</td>\n",
              "      <td>0.1809</td>\n",
              "      <td>0.05883</td>\n",
              "      <td>0.7572</td>\n",
              "      <td>0.7813</td>\n",
              "      <td>5.438</td>\n",
              "      <td>94.44</td>\n",
              "      <td>0.011490</td>\n",
              "      <td>0.02461</td>\n",
              "      <td>0.05688</td>\n",
              "      <td>0.01885</td>\n",
              "      <td>0.01756</td>\n",
              "      <td>0.005115</td>\n",
              "      <td>22.54</td>\n",
              "      <td>16.67</td>\n",
              "      <td>152.20</td>\n",
              "      <td>1575.0</td>\n",
              "      <td>0.1374</td>\n",
              "      <td>0.2050</td>\n",
              "      <td>0.4000</td>\n",
              "      <td>0.1625</td>\n",
              "      <td>0.2364</td>\n",
              "      <td>0.07678</td>\n",
              "    </tr>\n",
              "  </tbody>\n",
              "</table>\n",
              "</div>"
            ],
            "text/plain": [
              "         0  1      2      3       4   ...      27      28      29      30       31\n",
              "0    842302  M  17.99  10.38  122.80  ...  0.6656  0.7119  0.2654  0.4601  0.11890\n",
              "1    842517  M  20.57  17.77  132.90  ...  0.1866  0.2416  0.1860  0.2750  0.08902\n",
              "2  84300903  M  19.69  21.25  130.00  ...  0.4245  0.4504  0.2430  0.3613  0.08758\n",
              "3  84348301  M  11.42  20.38   77.58  ...  0.8663  0.6869  0.2575  0.6638  0.17300\n",
              "4  84358402  M  20.29  14.34  135.10  ...  0.2050  0.4000  0.1625  0.2364  0.07678\n",
              "\n",
              "[5 rows x 32 columns]"
            ]
          },
          "metadata": {
            "tags": []
          },
          "execution_count": 3
        }
      ]
    },
    {
      "cell_type": "code",
      "metadata": {
        "id": "5OebUUu6jjiv",
        "colab": {
          "base_uri": "https://localhost:8080/"
        },
        "outputId": "0c76b0b1-0a27-4b03-a26f-00c93161056b"
      },
      "source": [
        "data.shape"
      ],
      "execution_count": null,
      "outputs": [
        {
          "output_type": "execute_result",
          "data": {
            "text/plain": [
              "(569, 32)"
            ]
          },
          "metadata": {
            "tags": []
          },
          "execution_count": 4
        }
      ]
    },
    {
      "cell_type": "markdown",
      "metadata": {
        "id": "bIWC_LtskIZm"
      },
      "source": [
        "Procedemos a extraer los atributos de cada instancia y sus etiquetas correspondientes. Así mismo, hacemos que las etiquetas, originalmente codificadas con caracteres, se conviertan en enteros."
      ]
    },
    {
      "cell_type": "code",
      "metadata": {
        "id": "wHSS4ENukFoB",
        "colab": {
          "base_uri": "https://localhost:8080/"
        },
        "outputId": "7eaa90cc-4695-44f1-f712-a3177b65dd8b"
      },
      "source": [
        "dataset = data.loc[:, 2:].values\n",
        "labels = data.loc[:, 1].values\n",
        "print(labels)"
      ],
      "execution_count": null,
      "outputs": [
        {
          "output_type": "stream",
          "text": [
            "['M' 'M' 'M' 'M' 'M' 'M' 'M' 'M' 'M' 'M' 'M' 'M' 'M' 'M' 'M' 'M' 'M' 'M'\n",
            " 'M' 'B' 'B' 'B' 'M' 'M' 'M' 'M' 'M' 'M' 'M' 'M' 'M' 'M' 'M' 'M' 'M' 'M'\n",
            " 'M' 'B' 'M' 'M' 'M' 'M' 'M' 'M' 'M' 'M' 'B' 'M' 'B' 'B' 'B' 'B' 'B' 'M'\n",
            " 'M' 'B' 'M' 'M' 'B' 'B' 'B' 'B' 'M' 'B' 'M' 'M' 'B' 'B' 'B' 'B' 'M' 'B'\n",
            " 'M' 'M' 'B' 'M' 'B' 'M' 'M' 'B' 'B' 'B' 'M' 'M' 'B' 'M' 'M' 'M' 'B' 'B'\n",
            " 'B' 'M' 'B' 'B' 'M' 'M' 'B' 'B' 'B' 'M' 'M' 'B' 'B' 'B' 'B' 'M' 'B' 'B'\n",
            " 'M' 'B' 'B' 'B' 'B' 'B' 'B' 'B' 'B' 'M' 'M' 'M' 'B' 'M' 'M' 'B' 'B' 'B'\n",
            " 'M' 'M' 'B' 'M' 'B' 'M' 'M' 'B' 'M' 'M' 'B' 'B' 'M' 'B' 'B' 'M' 'B' 'B'\n",
            " 'B' 'B' 'M' 'B' 'B' 'B' 'B' 'B' 'B' 'B' 'B' 'B' 'M' 'B' 'B' 'B' 'B' 'M'\n",
            " 'M' 'B' 'M' 'B' 'B' 'M' 'M' 'B' 'B' 'M' 'M' 'B' 'B' 'B' 'B' 'M' 'B' 'B'\n",
            " 'M' 'M' 'M' 'B' 'M' 'B' 'M' 'B' 'B' 'B' 'M' 'B' 'B' 'M' 'M' 'B' 'M' 'M'\n",
            " 'M' 'M' 'B' 'M' 'M' 'M' 'B' 'M' 'B' 'M' 'B' 'B' 'M' 'B' 'M' 'M' 'M' 'M'\n",
            " 'B' 'B' 'M' 'M' 'B' 'B' 'B' 'M' 'B' 'B' 'B' 'B' 'B' 'M' 'M' 'B' 'B' 'M'\n",
            " 'B' 'B' 'M' 'M' 'B' 'M' 'B' 'B' 'B' 'B' 'M' 'B' 'B' 'B' 'B' 'B' 'M' 'B'\n",
            " 'M' 'M' 'M' 'M' 'M' 'M' 'M' 'M' 'M' 'M' 'M' 'M' 'M' 'M' 'B' 'B' 'B' 'B'\n",
            " 'B' 'B' 'M' 'B' 'M' 'B' 'B' 'M' 'B' 'B' 'M' 'B' 'M' 'M' 'B' 'B' 'B' 'B'\n",
            " 'B' 'B' 'B' 'B' 'B' 'B' 'B' 'B' 'B' 'M' 'B' 'B' 'M' 'B' 'M' 'B' 'B' 'B'\n",
            " 'B' 'B' 'B' 'B' 'B' 'B' 'B' 'B' 'B' 'B' 'B' 'M' 'B' 'B' 'B' 'M' 'B' 'M'\n",
            " 'B' 'B' 'B' 'B' 'M' 'M' 'M' 'B' 'B' 'B' 'B' 'M' 'B' 'M' 'B' 'M' 'B' 'B'\n",
            " 'B' 'M' 'B' 'B' 'B' 'B' 'B' 'B' 'B' 'M' 'M' 'M' 'B' 'B' 'B' 'B' 'B' 'B'\n",
            " 'B' 'B' 'B' 'B' 'B' 'M' 'M' 'B' 'M' 'M' 'M' 'B' 'M' 'M' 'B' 'B' 'B' 'B'\n",
            " 'B' 'M' 'B' 'B' 'B' 'B' 'B' 'M' 'B' 'B' 'B' 'M' 'B' 'B' 'M' 'M' 'B' 'B'\n",
            " 'B' 'B' 'B' 'B' 'M' 'B' 'B' 'B' 'B' 'B' 'B' 'B' 'M' 'B' 'B' 'B' 'B' 'B'\n",
            " 'M' 'B' 'B' 'M' 'B' 'B' 'B' 'B' 'B' 'B' 'B' 'B' 'B' 'B' 'B' 'B' 'M' 'B'\n",
            " 'M' 'M' 'B' 'M' 'B' 'B' 'B' 'B' 'B' 'M' 'B' 'B' 'M' 'B' 'M' 'B' 'B' 'M'\n",
            " 'B' 'M' 'B' 'B' 'B' 'B' 'B' 'B' 'B' 'B' 'M' 'M' 'B' 'B' 'B' 'B' 'B' 'B'\n",
            " 'M' 'B' 'B' 'B' 'B' 'B' 'B' 'B' 'B' 'B' 'B' 'M' 'B' 'B' 'B' 'B' 'B' 'B'\n",
            " 'B' 'M' 'B' 'M' 'B' 'B' 'M' 'B' 'B' 'B' 'B' 'B' 'M' 'M' 'B' 'M' 'B' 'M'\n",
            " 'B' 'B' 'B' 'B' 'B' 'M' 'B' 'B' 'M' 'B' 'M' 'B' 'M' 'M' 'B' 'B' 'B' 'M'\n",
            " 'B' 'B' 'B' 'B' 'B' 'B' 'B' 'B' 'B' 'B' 'B' 'M' 'B' 'M' 'M' 'B' 'B' 'B'\n",
            " 'B' 'B' 'B' 'B' 'B' 'B' 'B' 'B' 'B' 'B' 'B' 'B' 'B' 'B' 'B' 'B' 'B' 'B'\n",
            " 'B' 'B' 'B' 'B' 'M' 'M' 'M' 'M' 'M' 'M' 'B']\n"
          ],
          "name": "stdout"
        }
      ]
    },
    {
      "cell_type": "code",
      "metadata": {
        "id": "kulIHjHmo58x",
        "colab": {
          "base_uri": "https://localhost:8080/"
        },
        "outputId": "6f594b8d-a3c3-4637-92d1-f4e9c92b3d00"
      },
      "source": [
        "dataset.shape"
      ],
      "execution_count": null,
      "outputs": [
        {
          "output_type": "execute_result",
          "data": {
            "text/plain": [
              "(569, 30)"
            ]
          },
          "metadata": {
            "tags": []
          },
          "execution_count": 6
        }
      ]
    },
    {
      "cell_type": "code",
      "metadata": {
        "id": "Th9XjIjWsqPo"
      },
      "source": [
        "from sklearn.preprocessing import LabelEncoder\n",
        "#Transformamos las etiquetas de caracter a entero\n",
        "encoder = LabelEncoder()\n",
        "labels = encoder.fit_transform(labels)"
      ],
      "execution_count": null,
      "outputs": []
    },
    {
      "cell_type": "code",
      "metadata": {
        "id": "c9vbMVQktNEY",
        "colab": {
          "base_uri": "https://localhost:8080/"
        },
        "outputId": "8ed140c9-9dbd-40d4-bcbb-dd198860cf8d"
      },
      "source": [
        "labels"
      ],
      "execution_count": null,
      "outputs": [
        {
          "output_type": "execute_result",
          "data": {
            "text/plain": [
              "array([1, 1, 1, 1, 1, 1, 1, 1, 1, 1, 1, 1, 1, 1, 1, 1, 1, 1, 1, 0, 0, 0,\n",
              "       1, 1, 1, 1, 1, 1, 1, 1, 1, 1, 1, 1, 1, 1, 1, 0, 1, 1, 1, 1, 1, 1,\n",
              "       1, 1, 0, 1, 0, 0, 0, 0, 0, 1, 1, 0, 1, 1, 0, 0, 0, 0, 1, 0, 1, 1,\n",
              "       0, 0, 0, 0, 1, 0, 1, 1, 0, 1, 0, 1, 1, 0, 0, 0, 1, 1, 0, 1, 1, 1,\n",
              "       0, 0, 0, 1, 0, 0, 1, 1, 0, 0, 0, 1, 1, 0, 0, 0, 0, 1, 0, 0, 1, 0,\n",
              "       0, 0, 0, 0, 0, 0, 0, 1, 1, 1, 0, 1, 1, 0, 0, 0, 1, 1, 0, 1, 0, 1,\n",
              "       1, 0, 1, 1, 0, 0, 1, 0, 0, 1, 0, 0, 0, 0, 1, 0, 0, 0, 0, 0, 0, 0,\n",
              "       0, 0, 1, 0, 0, 0, 0, 1, 1, 0, 1, 0, 0, 1, 1, 0, 0, 1, 1, 0, 0, 0,\n",
              "       0, 1, 0, 0, 1, 1, 1, 0, 1, 0, 1, 0, 0, 0, 1, 0, 0, 1, 1, 0, 1, 1,\n",
              "       1, 1, 0, 1, 1, 1, 0, 1, 0, 1, 0, 0, 1, 0, 1, 1, 1, 1, 0, 0, 1, 1,\n",
              "       0, 0, 0, 1, 0, 0, 0, 0, 0, 1, 1, 0, 0, 1, 0, 0, 1, 1, 0, 1, 0, 0,\n",
              "       0, 0, 1, 0, 0, 0, 0, 0, 1, 0, 1, 1, 1, 1, 1, 1, 1, 1, 1, 1, 1, 1,\n",
              "       1, 1, 0, 0, 0, 0, 0, 0, 1, 0, 1, 0, 0, 1, 0, 0, 1, 0, 1, 1, 0, 0,\n",
              "       0, 0, 0, 0, 0, 0, 0, 0, 0, 0, 0, 1, 0, 0, 1, 0, 1, 0, 0, 0, 0, 0,\n",
              "       0, 0, 0, 0, 0, 0, 0, 0, 0, 1, 0, 0, 0, 1, 0, 1, 0, 0, 0, 0, 1, 1,\n",
              "       1, 0, 0, 0, 0, 1, 0, 1, 0, 1, 0, 0, 0, 1, 0, 0, 0, 0, 0, 0, 0, 1,\n",
              "       1, 1, 0, 0, 0, 0, 0, 0, 0, 0, 0, 0, 0, 1, 1, 0, 1, 1, 1, 0, 1, 1,\n",
              "       0, 0, 0, 0, 0, 1, 0, 0, 0, 0, 0, 1, 0, 0, 0, 1, 0, 0, 1, 1, 0, 0,\n",
              "       0, 0, 0, 0, 1, 0, 0, 0, 0, 0, 0, 0, 1, 0, 0, 0, 0, 0, 1, 0, 0, 1,\n",
              "       0, 0, 0, 0, 0, 0, 0, 0, 0, 0, 0, 0, 1, 0, 1, 1, 0, 1, 0, 0, 0, 0,\n",
              "       0, 1, 0, 0, 1, 0, 1, 0, 0, 1, 0, 1, 0, 0, 0, 0, 0, 0, 0, 0, 1, 1,\n",
              "       0, 0, 0, 0, 0, 0, 1, 0, 0, 0, 0, 0, 0, 0, 0, 0, 0, 1, 0, 0, 0, 0,\n",
              "       0, 0, 0, 1, 0, 1, 0, 0, 1, 0, 0, 0, 0, 0, 1, 1, 0, 1, 0, 1, 0, 0,\n",
              "       0, 0, 0, 1, 0, 0, 1, 0, 1, 0, 1, 1, 0, 0, 0, 1, 0, 0, 0, 0, 0, 0,\n",
              "       0, 0, 0, 0, 0, 1, 0, 1, 1, 0, 0, 0, 0, 0, 0, 0, 0, 0, 0, 0, 0, 0,\n",
              "       0, 0, 0, 0, 0, 0, 0, 0, 0, 0, 0, 0, 1, 1, 1, 1, 1, 1, 0])"
            ]
          },
          "metadata": {
            "tags": []
          },
          "execution_count": 8
        }
      ]
    },
    {
      "cell_type": "markdown",
      "metadata": {
        "id": "SNT-edDKks2f"
      },
      "source": [
        "Podemos ver como las etiquetas que originalmente estaban codificadas a partir de los caracteres \"B\" y \"M\", ahora se representan mediante valores enteros \"1\" y \"0\", respectivamente. "
      ]
    },
    {
      "cell_type": "code",
      "metadata": {
        "id": "Fcju16Xykg-f",
        "colab": {
          "base_uri": "https://localhost:8080/"
        },
        "outputId": "ecd8531f-5739-40ca-9bee-3a641b736516"
      },
      "source": [
        "encoder.classes_"
      ],
      "execution_count": null,
      "outputs": [
        {
          "output_type": "execute_result",
          "data": {
            "text/plain": [
              "array(['B', 'M'], dtype=object)"
            ]
          },
          "metadata": {
            "tags": []
          },
          "execution_count": 9
        }
      ]
    },
    {
      "cell_type": "code",
      "metadata": {
        "id": "ei3JToD4khh-",
        "colab": {
          "base_uri": "https://localhost:8080/"
        },
        "outputId": "fd7ebc84-4696-4b8f-d061-e20211ba1b5c"
      },
      "source": [
        "encoder.transform(['M', 'B'])"
      ],
      "execution_count": null,
      "outputs": [
        {
          "output_type": "execute_result",
          "data": {
            "text/plain": [
              "array([1, 0])"
            ]
          },
          "metadata": {
            "tags": []
          },
          "execution_count": 10
        }
      ]
    },
    {
      "cell_type": "markdown",
      "metadata": {
        "id": "xHppTMIrlCRu"
      },
      "source": [
        "# **Partición de la base de datos**"
      ]
    },
    {
      "cell_type": "code",
      "metadata": {
        "id": "lxUV5R7flEKm"
      },
      "source": [
        "#La clase train_test_split permite realizar la partición de la base de datos en los conjuntos de entrenamiento y de prueba.\n",
        "from sklearn.model_selection import train_test_split\n",
        "\n",
        "train_data, test_data, train_labels, test_labels = train_test_split(dataset, labels, test_size=0.10, stratify=labels, random_state=1)\n",
        "#test_size es un argumento que nos permitirá especificar la proporción de instancias que serán asignadas al conjunto de prueba\n",
        "#stratify indica que los conjuntos de entrenamiento y de prueba, tienen la misma proporción de etiquetas de clase presente en la base de datos original\n",
        "#random_state hace posible que las instancias de los conjuntos sean inicializadas aleatoriamente, y al asignarle un valor fijo, nos aseguramos de poder\n",
        "#general resultados reproducibles."
      ],
      "execution_count": null,
      "outputs": []
    },
    {
      "cell_type": "markdown",
      "metadata": {
        "id": "qp8GOz7jmQVA"
      },
      "source": [
        "# **Preprocesamiento de los datos**"
      ]
    },
    {
      "cell_type": "code",
      "metadata": {
        "id": "I8R8kaxqmPoe"
      },
      "source": [
        "#Feature Scaling\n",
        "from sklearn.preprocessing import StandardScaler\n",
        "sc = StandardScaler()\n",
        "train_data_std = sc.fit_transform(train_data)\n",
        "test_data_std = sc.transform(test_data)"
      ],
      "execution_count": null,
      "outputs": []
    },
    {
      "cell_type": "code",
      "metadata": {
        "id": "7BtmLGRaScaB",
        "colab": {
          "base_uri": "https://localhost:8080/"
        },
        "outputId": "b1e7d10c-a6f4-4ad0-8ff4-591c9e664c49"
      },
      "source": [
        "train_data_std.shape"
      ],
      "execution_count": null,
      "outputs": [
        {
          "output_type": "execute_result",
          "data": {
            "text/plain": [
              "(512, 30)"
            ]
          },
          "metadata": {
            "tags": []
          },
          "execution_count": 13
        }
      ]
    },
    {
      "cell_type": "code",
      "metadata": {
        "id": "k6E3EwHKvCEi",
        "colab": {
          "base_uri": "https://localhost:8080/"
        },
        "outputId": "1db84d0e-41c2-4c5e-97a1-ecad85b0282a"
      },
      "source": [
        "test_data_std.shape"
      ],
      "execution_count": null,
      "outputs": [
        {
          "output_type": "execute_result",
          "data": {
            "text/plain": [
              "(57, 30)"
            ]
          },
          "metadata": {
            "tags": []
          },
          "execution_count": 14
        }
      ]
    },
    {
      "cell_type": "markdown",
      "metadata": {
        "id": "Mjmq_KQqmkOf"
      },
      "source": [
        "# **Construcción de la red neuronal**"
      ]
    },
    {
      "cell_type": "code",
      "metadata": {
        "id": "OrXnXI4FmmqP"
      },
      "source": [
        "from keras import models\n",
        "from keras import layers\n",
        "#Dropout permite regularizar a la red neuronal durante la etapa de entrenamiento\n",
        "model = models.Sequential()\n",
        "model.add(layers.Dense(16, activation='relu', input_shape=(30,))) #Primera capa oculta\n",
        "model.add(layers.Dropout(0.1))\n",
        "model.add(layers.Dense(16, activation='relu')) #Segunda capa oculta\n",
        "model.add(layers.Dropout(0.1))\n",
        "model.add(layers.Dense(1, activation='sigmoid'))#Capa de salida"
      ],
      "execution_count": null,
      "outputs": []
    },
    {
      "cell_type": "markdown",
      "metadata": {
        "id": "xY04xdUYAFeE"
      },
      "source": [
        "# **Compilación**"
      ]
    },
    {
      "cell_type": "code",
      "metadata": {
        "id": "8_T3TRHTAEIV"
      },
      "source": [
        "from keras import optimizers\n",
        "model.compile(optimizer='adam',\n",
        "              loss='binary_crossentropy',\n",
        "              metrics=['accuracy'])"
      ],
      "execution_count": null,
      "outputs": []
    },
    {
      "cell_type": "markdown",
      "metadata": {
        "id": "gj4P5iKfBN78"
      },
      "source": [
        "# **Entrenamiento**"
      ]
    },
    {
      "cell_type": "code",
      "metadata": {
        "id": "b8TUQ6oSBQP9",
        "colab": {
          "base_uri": "https://localhost:8080/"
        },
        "outputId": "4bbaeffe-062f-4cf4-fec2-41d2b842626e"
      },
      "source": [
        "history = model.fit(train_data,\n",
        "                    train_labels,\n",
        "                    epochs=150,\n",
        "                    batch_size=100)"
      ],
      "execution_count": null,
      "outputs": [
        {
          "output_type": "stream",
          "text": [
            "Epoch 1/150\n",
            "6/6 [==============================] - 0s 2ms/step - loss: 29.0530 - accuracy: 0.5664\n",
            "Epoch 2/150\n",
            "6/6 [==============================] - 0s 2ms/step - loss: 24.8688 - accuracy: 0.5332\n",
            "Epoch 3/150\n",
            "6/6 [==============================] - 0s 2ms/step - loss: 17.0905 - accuracy: 0.5293\n",
            "Epoch 4/150\n",
            "6/6 [==============================] - 0s 2ms/step - loss: 19.6541 - accuracy: 0.4590\n",
            "Epoch 5/150\n",
            "6/6 [==============================] - 0s 2ms/step - loss: 15.4631 - accuracy: 0.5332\n",
            "Epoch 6/150\n",
            "6/6 [==============================] - 0s 4ms/step - loss: 13.6565 - accuracy: 0.5918\n",
            "Epoch 7/150\n",
            "6/6 [==============================] - 0s 2ms/step - loss: 14.7332 - accuracy: 0.6016\n",
            "Epoch 8/150\n",
            "6/6 [==============================] - 0s 2ms/step - loss: 12.2851 - accuracy: 0.6191\n",
            "Epoch 9/150\n",
            "6/6 [==============================] - 0s 2ms/step - loss: 12.9232 - accuracy: 0.5664\n",
            "Epoch 10/150\n",
            "6/6 [==============================] - 0s 2ms/step - loss: 12.3054 - accuracy: 0.6035\n",
            "Epoch 11/150\n",
            "6/6 [==============================] - 0s 2ms/step - loss: 10.0061 - accuracy: 0.6621\n",
            "Epoch 12/150\n",
            "6/6 [==============================] - 0s 2ms/step - loss: 9.6562 - accuracy: 0.6270\n",
            "Epoch 13/150\n",
            "6/6 [==============================] - 0s 2ms/step - loss: 10.2791 - accuracy: 0.6172\n",
            "Epoch 14/150\n",
            "6/6 [==============================] - 0s 2ms/step - loss: 9.3375 - accuracy: 0.6270\n",
            "Epoch 15/150\n",
            "6/6 [==============================] - 0s 2ms/step - loss: 8.7250 - accuracy: 0.6094\n",
            "Epoch 16/150\n",
            "6/6 [==============================] - 0s 2ms/step - loss: 8.1784 - accuracy: 0.6094\n",
            "Epoch 17/150\n",
            "6/6 [==============================] - 0s 2ms/step - loss: 7.8902 - accuracy: 0.6250\n",
            "Epoch 18/150\n",
            "6/6 [==============================] - 0s 2ms/step - loss: 7.2496 - accuracy: 0.6328\n",
            "Epoch 19/150\n",
            "6/6 [==============================] - 0s 3ms/step - loss: 6.0813 - accuracy: 0.6602\n",
            "Epoch 20/150\n",
            "6/6 [==============================] - 0s 2ms/step - loss: 6.3283 - accuracy: 0.6484\n",
            "Epoch 21/150\n",
            "6/6 [==============================] - 0s 2ms/step - loss: 7.3674 - accuracy: 0.6289\n",
            "Epoch 22/150\n",
            "6/6 [==============================] - 0s 2ms/step - loss: 6.1032 - accuracy: 0.6523\n",
            "Epoch 23/150\n",
            "6/6 [==============================] - 0s 2ms/step - loss: 5.9190 - accuracy: 0.6543\n",
            "Epoch 24/150\n",
            "6/6 [==============================] - 0s 2ms/step - loss: 4.8702 - accuracy: 0.6523\n",
            "Epoch 25/150\n",
            "6/6 [==============================] - 0s 2ms/step - loss: 4.4661 - accuracy: 0.6855\n",
            "Epoch 26/150\n",
            "6/6 [==============================] - 0s 2ms/step - loss: 4.3129 - accuracy: 0.6953\n",
            "Epoch 27/150\n",
            "6/6 [==============================] - 0s 2ms/step - loss: 3.8233 - accuracy: 0.7012\n",
            "Epoch 28/150\n",
            "6/6 [==============================] - 0s 2ms/step - loss: 3.6139 - accuracy: 0.6758\n",
            "Epoch 29/150\n",
            "6/6 [==============================] - 0s 2ms/step - loss: 3.8416 - accuracy: 0.6602\n",
            "Epoch 30/150\n",
            "6/6 [==============================] - 0s 2ms/step - loss: 2.6962 - accuracy: 0.7148\n",
            "Epoch 31/150\n",
            "6/6 [==============================] - 0s 2ms/step - loss: 3.1302 - accuracy: 0.6895\n",
            "Epoch 32/150\n",
            "6/6 [==============================] - 0s 2ms/step - loss: 2.4234 - accuracy: 0.7422\n",
            "Epoch 33/150\n",
            "6/6 [==============================] - 0s 2ms/step - loss: 2.3854 - accuracy: 0.7480\n",
            "Epoch 34/150\n",
            "6/6 [==============================] - 0s 2ms/step - loss: 1.9979 - accuracy: 0.7441\n",
            "Epoch 35/150\n",
            "6/6 [==============================] - 0s 2ms/step - loss: 1.8735 - accuracy: 0.7441\n",
            "Epoch 36/150\n",
            "6/6 [==============================] - 0s 2ms/step - loss: 1.7818 - accuracy: 0.7578\n",
            "Epoch 37/150\n",
            "6/6 [==============================] - 0s 2ms/step - loss: 1.5301 - accuracy: 0.7812\n",
            "Epoch 38/150\n",
            "6/6 [==============================] - 0s 2ms/step - loss: 1.5205 - accuracy: 0.7480\n",
            "Epoch 39/150\n",
            "6/6 [==============================] - 0s 2ms/step - loss: 1.2833 - accuracy: 0.7832\n",
            "Epoch 40/150\n",
            "6/6 [==============================] - 0s 2ms/step - loss: 1.2455 - accuracy: 0.7734\n",
            "Epoch 41/150\n",
            "6/6 [==============================] - 0s 2ms/step - loss: 1.0732 - accuracy: 0.7773\n",
            "Epoch 42/150\n",
            "6/6 [==============================] - 0s 3ms/step - loss: 1.1583 - accuracy: 0.8027\n",
            "Epoch 43/150\n",
            "6/6 [==============================] - 0s 2ms/step - loss: 1.1120 - accuracy: 0.7891\n",
            "Epoch 44/150\n",
            "6/6 [==============================] - 0s 2ms/step - loss: 0.7335 - accuracy: 0.8105\n",
            "Epoch 45/150\n",
            "6/6 [==============================] - 0s 2ms/step - loss: 0.9508 - accuracy: 0.8320\n",
            "Epoch 46/150\n",
            "6/6 [==============================] - 0s 2ms/step - loss: 0.9569 - accuracy: 0.8086\n",
            "Epoch 47/150\n",
            "6/6 [==============================] - 0s 2ms/step - loss: 0.9387 - accuracy: 0.8223\n",
            "Epoch 48/150\n",
            "6/6 [==============================] - 0s 2ms/step - loss: 0.6945 - accuracy: 0.8105\n",
            "Epoch 49/150\n",
            "6/6 [==============================] - 0s 2ms/step - loss: 0.6900 - accuracy: 0.8242\n",
            "Epoch 50/150\n",
            "6/6 [==============================] - 0s 2ms/step - loss: 0.7021 - accuracy: 0.8145\n",
            "Epoch 51/150\n",
            "6/6 [==============================] - 0s 2ms/step - loss: 0.7628 - accuracy: 0.8301\n",
            "Epoch 52/150\n",
            "6/6 [==============================] - 0s 2ms/step - loss: 0.7496 - accuracy: 0.8301\n",
            "Epoch 53/150\n",
            "6/6 [==============================] - 0s 3ms/step - loss: 0.6539 - accuracy: 0.8379\n",
            "Epoch 54/150\n",
            "6/6 [==============================] - 0s 2ms/step - loss: 0.6640 - accuracy: 0.8242\n",
            "Epoch 55/150\n",
            "6/6 [==============================] - 0s 3ms/step - loss: 0.5683 - accuracy: 0.8398\n",
            "Epoch 56/150\n",
            "6/6 [==============================] - 0s 2ms/step - loss: 0.6904 - accuracy: 0.8223\n",
            "Epoch 57/150\n",
            "6/6 [==============================] - 0s 2ms/step - loss: 0.5000 - accuracy: 0.8457\n",
            "Epoch 58/150\n",
            "6/6 [==============================] - 0s 2ms/step - loss: 0.5760 - accuracy: 0.8164\n",
            "Epoch 59/150\n",
            "6/6 [==============================] - 0s 2ms/step - loss: 0.5941 - accuracy: 0.8164\n",
            "Epoch 60/150\n",
            "6/6 [==============================] - 0s 3ms/step - loss: 0.6408 - accuracy: 0.8281\n",
            "Epoch 61/150\n",
            "6/6 [==============================] - 0s 3ms/step - loss: 0.4662 - accuracy: 0.8555\n",
            "Epoch 62/150\n",
            "6/6 [==============================] - 0s 3ms/step - loss: 0.5071 - accuracy: 0.8555\n",
            "Epoch 63/150\n",
            "6/6 [==============================] - 0s 2ms/step - loss: 0.4495 - accuracy: 0.8301\n",
            "Epoch 64/150\n",
            "6/6 [==============================] - 0s 2ms/step - loss: 0.4878 - accuracy: 0.8535\n",
            "Epoch 65/150\n",
            "6/6 [==============================] - 0s 2ms/step - loss: 0.4135 - accuracy: 0.8438\n",
            "Epoch 66/150\n",
            "6/6 [==============================] - 0s 2ms/step - loss: 0.4270 - accuracy: 0.8730\n",
            "Epoch 67/150\n",
            "6/6 [==============================] - 0s 2ms/step - loss: 0.4386 - accuracy: 0.8438\n",
            "Epoch 68/150\n",
            "6/6 [==============================] - 0s 2ms/step - loss: 0.3855 - accuracy: 0.8750\n",
            "Epoch 69/150\n",
            "6/6 [==============================] - 0s 3ms/step - loss: 0.3791 - accuracy: 0.8633\n",
            "Epoch 70/150\n",
            "6/6 [==============================] - 0s 3ms/step - loss: 0.4019 - accuracy: 0.8711\n",
            "Epoch 71/150\n",
            "6/6 [==============================] - 0s 2ms/step - loss: 0.3372 - accuracy: 0.8770\n",
            "Epoch 72/150\n",
            "6/6 [==============================] - 0s 2ms/step - loss: 0.4388 - accuracy: 0.8438\n",
            "Epoch 73/150\n",
            "6/6 [==============================] - 0s 2ms/step - loss: 0.3980 - accuracy: 0.8672\n",
            "Epoch 74/150\n",
            "6/6 [==============================] - 0s 2ms/step - loss: 0.3834 - accuracy: 0.8594\n",
            "Epoch 75/150\n",
            "6/6 [==============================] - 0s 3ms/step - loss: 0.3660 - accuracy: 0.8770\n",
            "Epoch 76/150\n",
            "6/6 [==============================] - 0s 2ms/step - loss: 0.4024 - accuracy: 0.8633\n",
            "Epoch 77/150\n",
            "6/6 [==============================] - 0s 2ms/step - loss: 0.3498 - accuracy: 0.8828\n",
            "Epoch 78/150\n",
            "6/6 [==============================] - 0s 3ms/step - loss: 0.3459 - accuracy: 0.8809\n",
            "Epoch 79/150\n",
            "6/6 [==============================] - 0s 2ms/step - loss: 0.3313 - accuracy: 0.8848\n",
            "Epoch 80/150\n",
            "6/6 [==============================] - 0s 2ms/step - loss: 0.3458 - accuracy: 0.8652\n",
            "Epoch 81/150\n",
            "6/6 [==============================] - 0s 2ms/step - loss: 0.3714 - accuracy: 0.8594\n",
            "Epoch 82/150\n",
            "6/6 [==============================] - 0s 2ms/step - loss: 0.2999 - accuracy: 0.8887\n",
            "Epoch 83/150\n",
            "6/6 [==============================] - 0s 2ms/step - loss: 0.3319 - accuracy: 0.8809\n",
            "Epoch 84/150\n",
            "6/6 [==============================] - 0s 2ms/step - loss: 0.3117 - accuracy: 0.8984\n",
            "Epoch 85/150\n",
            "6/6 [==============================] - 0s 2ms/step - loss: 0.3261 - accuracy: 0.8906\n",
            "Epoch 86/150\n",
            "6/6 [==============================] - 0s 2ms/step - loss: 0.2876 - accuracy: 0.9082\n",
            "Epoch 87/150\n",
            "6/6 [==============================] - 0s 3ms/step - loss: 0.2889 - accuracy: 0.9141\n",
            "Epoch 88/150\n",
            "6/6 [==============================] - 0s 2ms/step - loss: 0.2945 - accuracy: 0.9004\n",
            "Epoch 89/150\n",
            "6/6 [==============================] - 0s 3ms/step - loss: 0.2971 - accuracy: 0.8984\n",
            "Epoch 90/150\n",
            "6/6 [==============================] - 0s 2ms/step - loss: 0.3232 - accuracy: 0.8965\n",
            "Epoch 91/150\n",
            "6/6 [==============================] - 0s 2ms/step - loss: 0.2960 - accuracy: 0.8945\n",
            "Epoch 92/150\n",
            "6/6 [==============================] - 0s 2ms/step - loss: 0.2882 - accuracy: 0.9062\n",
            "Epoch 93/150\n",
            "6/6 [==============================] - 0s 3ms/step - loss: 0.2598 - accuracy: 0.9141\n",
            "Epoch 94/150\n",
            "6/6 [==============================] - 0s 2ms/step - loss: 0.2793 - accuracy: 0.8984\n",
            "Epoch 95/150\n",
            "6/6 [==============================] - 0s 2ms/step - loss: 0.2986 - accuracy: 0.8945\n",
            "Epoch 96/150\n",
            "6/6 [==============================] - 0s 2ms/step - loss: 0.2764 - accuracy: 0.9062\n",
            "Epoch 97/150\n",
            "6/6 [==============================] - 0s 2ms/step - loss: 0.2625 - accuracy: 0.9141\n",
            "Epoch 98/150\n",
            "6/6 [==============================] - 0s 3ms/step - loss: 0.2525 - accuracy: 0.9121\n",
            "Epoch 99/150\n",
            "6/6 [==============================] - 0s 3ms/step - loss: 0.3161 - accuracy: 0.8926\n",
            "Epoch 100/150\n",
            "6/6 [==============================] - 0s 3ms/step - loss: 0.2902 - accuracy: 0.8887\n",
            "Epoch 101/150\n",
            "6/6 [==============================] - 0s 2ms/step - loss: 0.2882 - accuracy: 0.9082\n",
            "Epoch 102/150\n",
            "6/6 [==============================] - 0s 2ms/step - loss: 0.2894 - accuracy: 0.8945\n",
            "Epoch 103/150\n",
            "6/6 [==============================] - 0s 2ms/step - loss: 0.2477 - accuracy: 0.9238\n",
            "Epoch 104/150\n",
            "6/6 [==============================] - 0s 2ms/step - loss: 0.2826 - accuracy: 0.9102\n",
            "Epoch 105/150\n",
            "6/6 [==============================] - 0s 2ms/step - loss: 0.2667 - accuracy: 0.9062\n",
            "Epoch 106/150\n",
            "6/6 [==============================] - 0s 2ms/step - loss: 0.2693 - accuracy: 0.9062\n",
            "Epoch 107/150\n",
            "6/6 [==============================] - 0s 3ms/step - loss: 0.2788 - accuracy: 0.9023\n",
            "Epoch 108/150\n",
            "6/6 [==============================] - 0s 2ms/step - loss: 0.2705 - accuracy: 0.9004\n",
            "Epoch 109/150\n",
            "6/6 [==============================] - 0s 3ms/step - loss: 0.2737 - accuracy: 0.9121\n",
            "Epoch 110/150\n",
            "6/6 [==============================] - 0s 2ms/step - loss: 0.2575 - accuracy: 0.8984\n",
            "Epoch 111/150\n",
            "6/6 [==============================] - 0s 3ms/step - loss: 0.2591 - accuracy: 0.9277\n",
            "Epoch 112/150\n",
            "6/6 [==============================] - 0s 2ms/step - loss: 0.2863 - accuracy: 0.9043\n",
            "Epoch 113/150\n",
            "6/6 [==============================] - 0s 2ms/step - loss: 0.2650 - accuracy: 0.9043\n",
            "Epoch 114/150\n",
            "6/6 [==============================] - 0s 3ms/step - loss: 0.2497 - accuracy: 0.9219\n",
            "Epoch 115/150\n",
            "6/6 [==============================] - 0s 2ms/step - loss: 0.2503 - accuracy: 0.9043\n",
            "Epoch 116/150\n",
            "6/6 [==============================] - 0s 4ms/step - loss: 0.2882 - accuracy: 0.8906\n",
            "Epoch 117/150\n",
            "6/6 [==============================] - 0s 2ms/step - loss: 0.2639 - accuracy: 0.9023\n",
            "Epoch 118/150\n",
            "6/6 [==============================] - 0s 2ms/step - loss: 0.2777 - accuracy: 0.9121\n",
            "Epoch 119/150\n",
            "6/6 [==============================] - 0s 2ms/step - loss: 0.2729 - accuracy: 0.9082\n",
            "Epoch 120/150\n",
            "6/6 [==============================] - 0s 3ms/step - loss: 0.2602 - accuracy: 0.9043\n",
            "Epoch 121/150\n",
            "6/6 [==============================] - 0s 2ms/step - loss: 0.2471 - accuracy: 0.9199\n",
            "Epoch 122/150\n",
            "6/6 [==============================] - 0s 3ms/step - loss: 0.2470 - accuracy: 0.9180\n",
            "Epoch 123/150\n",
            "6/6 [==============================] - 0s 2ms/step - loss: 0.2369 - accuracy: 0.9258\n",
            "Epoch 124/150\n",
            "6/6 [==============================] - 0s 2ms/step - loss: 0.2610 - accuracy: 0.9102\n",
            "Epoch 125/150\n",
            "6/6 [==============================] - 0s 3ms/step - loss: 0.2659 - accuracy: 0.9004\n",
            "Epoch 126/150\n",
            "6/6 [==============================] - 0s 2ms/step - loss: 0.2488 - accuracy: 0.9199\n",
            "Epoch 127/150\n",
            "6/6 [==============================] - 0s 2ms/step - loss: 0.2443 - accuracy: 0.9199\n",
            "Epoch 128/150\n",
            "6/6 [==============================] - 0s 2ms/step - loss: 0.2427 - accuracy: 0.9258\n",
            "Epoch 129/150\n",
            "6/6 [==============================] - 0s 2ms/step - loss: 0.2484 - accuracy: 0.9180\n",
            "Epoch 130/150\n",
            "6/6 [==============================] - 0s 2ms/step - loss: 0.2595 - accuracy: 0.9121\n",
            "Epoch 131/150\n",
            "6/6 [==============================] - 0s 2ms/step - loss: 0.2596 - accuracy: 0.9062\n",
            "Epoch 132/150\n",
            "6/6 [==============================] - 0s 3ms/step - loss: 0.2491 - accuracy: 0.9180\n",
            "Epoch 133/150\n",
            "6/6 [==============================] - 0s 2ms/step - loss: 0.2323 - accuracy: 0.9238\n",
            "Epoch 134/150\n",
            "6/6 [==============================] - 0s 2ms/step - loss: 0.2602 - accuracy: 0.8926\n",
            "Epoch 135/150\n",
            "6/6 [==============================] - 0s 3ms/step - loss: 0.2363 - accuracy: 0.9199\n",
            "Epoch 136/150\n",
            "6/6 [==============================] - 0s 3ms/step - loss: 0.2481 - accuracy: 0.8984\n",
            "Epoch 137/150\n",
            "6/6 [==============================] - 0s 3ms/step - loss: 0.2410 - accuracy: 0.9199\n",
            "Epoch 138/150\n",
            "6/6 [==============================] - 0s 2ms/step - loss: 0.2602 - accuracy: 0.9062\n",
            "Epoch 139/150\n",
            "6/6 [==============================] - 0s 2ms/step - loss: 0.2421 - accuracy: 0.9180\n",
            "Epoch 140/150\n",
            "6/6 [==============================] - 0s 2ms/step - loss: 0.2521 - accuracy: 0.9160\n",
            "Epoch 141/150\n",
            "6/6 [==============================] - 0s 2ms/step - loss: 0.2209 - accuracy: 0.9238\n",
            "Epoch 142/150\n",
            "6/6 [==============================] - 0s 2ms/step - loss: 0.2328 - accuracy: 0.9238\n",
            "Epoch 143/150\n",
            "6/6 [==============================] - 0s 2ms/step - loss: 0.2644 - accuracy: 0.9062\n",
            "Epoch 144/150\n",
            "6/6 [==============================] - 0s 3ms/step - loss: 0.2473 - accuracy: 0.9180\n",
            "Epoch 145/150\n",
            "6/6 [==============================] - 0s 3ms/step - loss: 0.2417 - accuracy: 0.9219\n",
            "Epoch 146/150\n",
            "6/6 [==============================] - 0s 2ms/step - loss: 0.2431 - accuracy: 0.9219\n",
            "Epoch 147/150\n",
            "6/6 [==============================] - 0s 2ms/step - loss: 0.2461 - accuracy: 0.9141\n",
            "Epoch 148/150\n",
            "6/6 [==============================] - 0s 2ms/step - loss: 0.2463 - accuracy: 0.9199\n",
            "Epoch 149/150\n",
            "6/6 [==============================] - 0s 2ms/step - loss: 0.2619 - accuracy: 0.9180\n",
            "Epoch 150/150\n",
            "6/6 [==============================] - 0s 2ms/step - loss: 0.2403 - accuracy: 0.9199\n"
          ],
          "name": "stdout"
        }
      ]
    },
    {
      "cell_type": "markdown",
      "metadata": {
        "id": "oeCNHrZgMbYR"
      },
      "source": [
        "# **Curva de pérdida**"
      ]
    },
    {
      "cell_type": "code",
      "metadata": {
        "id": "uBtIoB3WMdjT",
        "colab": {
          "base_uri": "https://localhost:8080/",
          "height": 312
        },
        "outputId": "6d1b4670-723d-487e-d97b-34b90071c8e5"
      },
      "source": [
        "import matplotlib.pyplot as plt\n",
        "\n",
        "loss = history.history['loss']\n",
        "min_loss = min(loss)\n",
        "min_loss_epoch= loss.index(min(loss)) + 1\n",
        "\n",
        "epochs = range(1, len(loss) + 1)\n",
        "\n",
        "plt.plot(epochs, loss, 'r', label='Training loss')\n",
        "plt.plot(min_loss_epoch, min_loss, 'bo', label='Minimun loss')\n",
        "plt.title('Training loss')\n",
        "plt.xlabel('Epochs')\n",
        "plt.ylabel('Loss')\n",
        "plt.legend()\n",
        "\n",
        "plt.show()\n",
        "print('Best epoch: ', min_loss_epoch)"
      ],
      "execution_count": null,
      "outputs": [
        {
          "output_type": "display_data",
          "data": {
            "image/png": "[encoded data removed]",
            "text/plain": [
              "<Figure size 432x288 with 1 Axes>"
            ]
          },
          "metadata": {
            "tags": [],
            "needs_background": "light"
          }
        },
        {
          "output_type": "stream",
          "text": [
            "Best epoch:  141\n"
          ],
          "name": "stdout"
        }
      ]
    },
    {
      "cell_type": "code",
      "metadata": {
        "id": "QNfW6GeSnNiL",
        "colab": {
          "base_uri": "https://localhost:8080/"
        },
        "outputId": "ea4f29bd-fbcb-4ab0-9a93-13ad11d8a517"
      },
      "source": [
        "min_index = loss.index(min(loss)) + 1\n",
        "print(min_index)"
      ],
      "execution_count": null,
      "outputs": [
        {
          "output_type": "stream",
          "text": [
            "141\n"
          ],
          "name": "stdout"
        }
      ]
    },
    {
      "cell_type": "markdown",
      "metadata": {
        "id": "9LMzNwytMeTq"
      },
      "source": [
        "# **Curva de precisión**"
      ]
    },
    {
      "cell_type": "code",
      "metadata": {
        "id": "qE5UKlqgMjvE",
        "colab": {
          "base_uri": "https://localhost:8080/",
          "height": 312
        },
        "outputId": "63ee5519-d4f4-4f6e-daf8-699042697f84"
      },
      "source": [
        "plt.clf()   # clear figure\n",
        "\n",
        "acc = history.history['accuracy']\n",
        "max_acc = max(acc)\n",
        "max_acc_epoch= acc.index(max(acc)) + 1\n",
        "\n",
        "plt.plot(epochs, acc, 'r', label='Training accuracy')\n",
        "plt.plot(max_acc_epoch, max_acc, 'bo', label='Maximum accuracy')\n",
        "plt.title('Training accuracy')\n",
        "plt.xlabel('Epochs')\n",
        "plt.ylabel('Accuracy')\n",
        "plt.legend()\n",
        "\n",
        "plt.show()\n",
        "print('Best epoch: ', max_acc_epoch)"
      ],
      "execution_count": null,
      "outputs": [
        {
          "output_type": "display_data",
          "data": {
            "image/png": "[encoded data removed]",
            "text/plain": [
              "<Figure size 432x288 with 1 Axes>"
            ]
          },
          "metadata": {
            "tags": [],
            "needs_background": "light"
          }
        },
        {
          "output_type": "stream",
          "text": [
            "Best epoch:  111\n"
          ],
          "name": "stdout"
        }
      ]
    },
    {
      "cell_type": "markdown",
      "metadata": {
        "id": "Eu3x87KKn20_"
      },
      "source": [
        "# **Predicción**"
      ]
    },
    {
      "cell_type": "markdown",
      "metadata": {
        "id": "_Cu3y7j7n51P"
      },
      "source": [
        "Para esta etapa, mediante la expresión y_pred = (y_pred > 0.5), hacemos que aquellas instancias de entrada que tengan como resultado de salida un valor mayor a 0.5, sean representadas como \"True\" o 1, mientras que aquellas que tenga un valor menor a 0.5, sean representadas como \"False\" o 0."
      ]
    },
    {
      "cell_type": "code",
      "metadata": {
        "id": "BpWxbdMun33e",
        "colab": {
          "base_uri": "https://localhost:8080/"
        },
        "outputId": "61b510a6-3f65-4a3d-d211-72925379fce3"
      },
      "source": [
        "test_predictions = model.predict(test_data)\n",
        "test_predictions"
      ],
      "execution_count": null,
      "outputs": [
        {
          "output_type": "execute_result",
          "data": {
            "text/plain": [
              "array([[0.04737276],\n",
              "       [0.05645725],\n",
              "       [0.629528  ],\n",
              "       [1.        ],\n",
              "       [0.03028497],\n",
              "       [1.        ],\n",
              "       [0.11061588],\n",
              "       [0.11887798],\n",
              "       [0.05606395],\n",
              "       [0.7323096 ],\n",
              "       [0.03681812],\n",
              "       [0.9979167 ],\n",
              "       [0.04288024],\n",
              "       [0.05861863],\n",
              "       [0.04765552],\n",
              "       [0.02128586],\n",
              "       [0.9938399 ],\n",
              "       [0.07386333],\n",
              "       [0.18675897],\n",
              "       [0.08802196],\n",
              "       [1.        ],\n",
              "       [0.14566404],\n",
              "       [0.755157  ],\n",
              "       [0.15739569],\n",
              "       [0.05340937],\n",
              "       [0.9373388 ],\n",
              "       [0.07778943],\n",
              "       [0.08940414],\n",
              "       [0.06752905],\n",
              "       [0.06035942],\n",
              "       [0.07018414],\n",
              "       [0.0484556 ],\n",
              "       [0.19308284],\n",
              "       [0.04789308],\n",
              "       [0.99999934],\n",
              "       [0.6409591 ],\n",
              "       [0.05425724],\n",
              "       [0.1018239 ],\n",
              "       [0.999928  ],\n",
              "       [0.07733896],\n",
              "       [0.12959969],\n",
              "       [0.99980915],\n",
              "       [0.05806476],\n",
              "       [0.10359651],\n",
              "       [0.20322987],\n",
              "       [0.9977329 ],\n",
              "       [0.12212896],\n",
              "       [0.1805999 ],\n",
              "       [0.06023306],\n",
              "       [0.6574159 ],\n",
              "       [0.99874973],\n",
              "       [0.8860632 ],\n",
              "       [0.05366233],\n",
              "       [0.09402618],\n",
              "       [0.99952257],\n",
              "       [0.07440457],\n",
              "       [0.04023308]], dtype=float32)"
            ]
          },
          "metadata": {
            "tags": []
          },
          "execution_count": 20
        }
      ]
    },
    {
      "cell_type": "code",
      "metadata": {
        "id": "G7ODDcxyysmw",
        "colab": {
          "base_uri": "https://localhost:8080/"
        },
        "outputId": "b21e3275-a86f-4725-89bf-3e32c7d90b57"
      },
      "source": [
        "test_predictions = (test_predictions > 0.5)\n",
        "print(test_predictions)"
      ],
      "execution_count": null,
      "outputs": [
        {
          "output_type": "stream",
          "text": [
            "[[False]\n",
            " [False]\n",
            " [ True]\n",
            " [ True]\n",
            " [False]\n",
            " [ True]\n",
            " [False]\n",
            " [False]\n",
            " [False]\n",
            " [ True]\n",
            " [False]\n",
            " [ True]\n",
            " [False]\n",
            " [False]\n",
            " [False]\n",
            " [False]\n",
            " [ True]\n",
            " [False]\n",
            " [False]\n",
            " [False]\n",
            " [ True]\n",
            " [False]\n",
            " [ True]\n",
            " [False]\n",
            " [False]\n",
            " [ True]\n",
            " [False]\n",
            " [False]\n",
            " [False]\n",
            " [False]\n",
            " [False]\n",
            " [False]\n",
            " [False]\n",
            " [False]\n",
            " [ True]\n",
            " [ True]\n",
            " [False]\n",
            " [False]\n",
            " [ True]\n",
            " [False]\n",
            " [False]\n",
            " [ True]\n",
            " [False]\n",
            " [False]\n",
            " [False]\n",
            " [ True]\n",
            " [False]\n",
            " [False]\n",
            " [False]\n",
            " [ True]\n",
            " [ True]\n",
            " [ True]\n",
            " [False]\n",
            " [False]\n",
            " [ True]\n",
            " [False]\n",
            " [False]]\n"
          ],
          "name": "stdout"
        }
      ]
    },
    {
      "cell_type": "markdown",
      "metadata": {
        "id": "SAhKDKZYoh2P"
      },
      "source": [
        "# **Matriz de confusión**"
      ]
    },
    {
      "cell_type": "code",
      "metadata": {
        "id": "nljtfDCEokI3"
      },
      "source": [
        "from sklearn.metrics import confusion_matrix\n",
        "cm = confusion_matrix(test_labels, test_predictions)"
      ],
      "execution_count": null,
      "outputs": []
    },
    {
      "cell_type": "code",
      "metadata": {
        "id": "2hj13oPkou1d",
        "colab": {
          "base_uri": "https://localhost:8080/"
        },
        "outputId": "7c8671d3-5f4d-49f3-f5d0-d8f9f95470a7"
      },
      "source": [
        "cm"
      ],
      "execution_count": null,
      "outputs": [
        {
          "output_type": "execute_result",
          "data": {
            "text/plain": [
              "array([[36,  0],\n",
              "       [ 3, 18]])"
            ]
          },
          "metadata": {
            "tags": []
          },
          "execution_count": 23
        }
      ]
    },
    {
      "cell_type": "code",
      "metadata": {
        "id": "E2nmTRvGovfP",
        "colab": {
          "base_uri": "https://localhost:8080/"
        },
        "outputId": "bddde445-ac02-4acc-c047-b47c2e6c6b3a"
      },
      "source": [
        "print(\"La precisión es de {}%\".format(((cm[0][0] + cm[1][1])/57)*100))"
      ],
      "execution_count": null,
      "outputs": [
        {
          "output_type": "stream",
          "text": [
            "La precisión es de 94.73684210526315%\n"
          ],
          "name": "stdout"
        }
      ]
    },
    {
      "cell_type": "code",
      "metadata": {
        "id": "YEvi5QZb2-K6",
        "colab": {
          "base_uri": "https://localhost:8080/",
          "height": 438
        },
        "outputId": "12db7e7c-32c0-4e9d-d1b9-19b7ab037ac8"
      },
      "source": [
        "fig, ax = plt.subplots(figsize=(5, 5))\n",
        "ax.matshow(cm, cmap=plt.cm.Greys, alpha=0.5)\n",
        "for i in range(cm.shape[0]):\n",
        "    for j in range(cm.shape[1]):\n",
        "        print(j)\n",
        "        ax.text(x=j, y=i, s=cm[i, j], va='center', ha='center')\n",
        "\n",
        "plt.title(\"Matriz de confusión\", fontsize=15)\n",
        "plt.xlabel('Predicciones')\n",
        "plt.ylabel('Valores verdaderos o etiquetas')\n",
        "\n",
        "plt.tight_layout()\n",
        "#plt.savefig('images/06_09.png', dpi=300)\n",
        "plt.show()"
      ],
      "execution_count": null,
      "outputs": [
        {
          "output_type": "stream",
          "text": [
            "0\n",
            "1\n",
            "0\n",
            "1\n"
          ],
          "name": "stdout"
        },
        {
          "output_type": "display_data",
          "data": {
            "image/png": "[encoded data removed]",
            "text/plain": [
              "<Figure size 360x360 with 1 Axes>"
            ]
          },
          "metadata": {
            "tags": [],
            "needs_background": "light"
          }
        }
      ]
    },
    {
      "cell_type": "markdown",
      "metadata": {
        "id": "_LQPD3ySpBzf"
      },
      "source": [
        "NOTA: La arquitectura presentada en este notebook, los parámetros usados para entrenar dicha arquitectura y el código referente a la matriz de confusión, incluyendo el mapa de calor, se tomaron de: https://www.kaggle.com/thebrownviking20/intro-to-keras-with-breast-cancer-data-ann. Se recomienda leer dicha referencia, pues es un artículo introductorio sumamente accesible y didáctico."
      ]
    },
    {
      "cell_type": "markdown",
      "metadata": {
        "id": "OpZu5N07qC8G"
      },
      "source": [
        "# **Evaluación del desempeño con base a las métricas de precisión, recall y F1.**"
      ]
    },
    {
      "cell_type": "code",
      "metadata": {
        "id": "kCwbmywjpPkI",
        "colab": {
          "base_uri": "https://localhost:8080/"
        },
        "outputId": "7c393812-50d0-411b-b3f9-52cc0ea49d7a"
      },
      "source": [
        "from sklearn.metrics import precision_score\n",
        "from sklearn.metrics import recall_score, f1_score\n",
        "\n",
        "print('Precision: %.3f' % precision_score(y_true=test_labels, y_pred=test_predictions, average = 'binary'))\n",
        "print('Recall: %.3f' % recall_score(y_true=test_labels, y_pred=test_predictions, average = 'binary'))\n",
        "print('F1: %.3f' % f1_score(y_true=test_labels, y_pred=test_predictions, average = 'binary'))"
      ],
      "execution_count": null,
      "outputs": [
        {
          "output_type": "stream",
          "text": [
            "Precision: 1.000\n",
            "Recall: 0.857\n",
            "F1: 0.923\n"
          ],
          "name": "stdout"
        }
      ]
    }
  ]
}